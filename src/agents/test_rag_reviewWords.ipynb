{
 "cells": [
  {
   "cell_type": "code",
   "execution_count": 5,
   "id": "961fa407",
   "metadata": {},
   "outputs": [
    {
     "name": "stderr",
     "output_type": "stream",
     "text": [
      "Device set to use cuda:0\n",
      "/mnt/qdrive/dbermejo/mooc/llmagents_mooc_project/rag_aymara.py:279: LangChainDeprecationWarning: The method `BaseRetriever.get_relevant_documents` was deprecated in langchain-core 0.1.46 and will be removed in 1.0. Use :meth:`~invoke` instead.\n",
      "  docs = self.retriever.get_relevant_documents(search_term)\n"
     ]
    },
    {
     "name": "stdout",
     "output_type": "stream",
     "text": [
      "Original sentence: 'achapuuuu naya suma wawajh estrella doctor jaaaamsdsu'\n",
      "Corrected sentence: 'naya suma wawa estrella doctor'\n",
      "\n",
      "DETAILED ANALYSIS BY WORD:\n",
      "==================================================\n",
      "I see you wrote 'achapuuuu naya suma wawajh estrella doctor jaaaamsdsu'. The correction to 'naya suma wawa estrella doctor' follows MINEDU manual.\n",
      "   Original sentence: 'achapuuuu naya suma wawajh estrella doctor jaaaamsdsu'\n",
      "   Corrected sentence: 'naya suma wawa estrella doctor'\n"
     ]
    }
   ],
   "source": [
    "from rag_aymara import RAGAymara\n",
    "\n",
    "rag = RAGAymara()\n",
    "test_cases = [\"achapuuuu naya suma wawajh estrella doctor jaaaamsdsu\"]\n",
    "\n",
    "for case in test_cases:\n",
    "    result = rag.analyze_sentence(case)\n",
    "    print(result)\n",
    "        \n",
    "    agent_data = rag.get_sentences_for_agent(case)\n",
    "    print(f\"   Original sentence: '{agent_data['original_sentence']}'\")\n",
    "    print(f\"   Corrected sentence: '{agent_data['corrected_sentence']}'\")"
   ]
  }
 ],
 "metadata": {
  "kernelspec": {
   "display_name": "mooc",
   "language": "python",
   "name": "python3"
  },
  "language_info": {
   "codemirror_mode": {
    "name": "ipython",
    "version": 3
   },
   "file_extension": ".py",
   "mimetype": "text/x-python",
   "name": "python",
   "nbconvert_exporter": "python",
   "pygments_lexer": "ipython3",
   "version": "3.12.9"
  }
 },
 "nbformat": 4,
 "nbformat_minor": 5
}
