{
 "cells": [
  {
   "cell_type": "code",
   "execution_count": 3,
   "metadata": {},
   "outputs": [],
   "source": [
    "import pandas as pd"
   ]
  },
  {
   "cell_type": "code",
   "execution_count": 13,
   "metadata": {},
   "outputs": [],
   "source": [
    "with open(\"americasnlp2025/ST1_MachineTranslation/data/aymara-spanish/train.aym\") as f:\n",
    "    aym_list = f.readlines()\n",
    "with open(\"americasnlp2025/ST1_MachineTranslation/data/aymara-spanish/train.es\") as f:\n",
    "    es_list = f.readlines()"
   ]
  },
  {
   "cell_type": "code",
   "execution_count": 14,
   "metadata": {},
   "outputs": [
    {
     "data": {
      "text/html": [
       "<div>\n",
       "<style scoped>\n",
       "    .dataframe tbody tr th:only-of-type {\n",
       "        vertical-align: middle;\n",
       "    }\n",
       "\n",
       "    .dataframe tbody tr th {\n",
       "        vertical-align: top;\n",
       "    }\n",
       "\n",
       "    .dataframe thead th {\n",
       "        text-align: right;\n",
       "    }\n",
       "</style>\n",
       "<table border=\"1\" class=\"dataframe\">\n",
       "  <thead>\n",
       "    <tr style=\"text-align: right;\">\n",
       "      <th></th>\n",
       "      <th>es</th>\n",
       "      <th>aym</th>\n",
       "    </tr>\n",
       "  </thead>\n",
       "  <tbody>\n",
       "    <tr>\n",
       "      <th>0</th>\n",
       "      <td>El 23 de abril es el Día Internacional del Lib...</td>\n",
       "      <td>Qasaw phaxsin 23 ur saraqatan Jour mondial du ...</td>\n",
       "    </tr>\n",
       "    <tr>\n",
       "      <th>1</th>\n",
       "      <td>Es más, porque creemos que leer literatura es ...</td>\n",
       "      <td>May sipanxa, taqinis yattan kunati yaqha jakaw...</td>\n",
       "    </tr>\n",
       "    <tr>\n",
       "      <th>2</th>\n",
       "      <td>El Desafío del Libro de Global Voices es como ...</td>\n",
       "      <td>Global Voices jach 'a pankan phaxsipax akkiriw...</td>\n",
       "    </tr>\n",
       "    <tr>\n",
       "      <th>3</th>\n",
       "      <td>1) Lee un libro durante el próximo mes de un p...</td>\n",
       "      <td>1) Jichha jutkan uka phaxsix mä anqa markan pa...</td>\n",
       "    </tr>\n",
       "    <tr>\n",
       "      <th>4</th>\n",
       "      <td>2) Escribe un post en tu blog acerca de él dur...</td>\n",
       "      <td>2) Qasaw 23 ur saraqatarxar pasir simanat pank...</td>\n",
       "    </tr>\n",
       "    <tr>\n",
       "      <th>...</th>\n",
       "      <td>...</td>\n",
       "      <td>...</td>\n",
       "    </tr>\n",
       "    <tr>\n",
       "      <th>6526</th>\n",
       "      <td>Aquí hay una sección para políglotas, personas...</td>\n",
       "      <td>Akanx ma qutucht ’ at yanapt ’ irinakaw walja ...</td>\n",
       "    </tr>\n",
       "    <tr>\n",
       "      <th>6527</th>\n",
       "      <td>Sin embargo, el equipo de Wikitongues es cauto...</td>\n",
       "      <td>Ukjamipansti, qutucht ’ ata Wikitongues ukax j...</td>\n",
       "    </tr>\n",
       "    <tr>\n",
       "      <th>6528</th>\n",
       "      <td>Wikitongues también elige un \"Idioma de la sem...</td>\n",
       "      <td>Wikitongues ukax mä arw simanan chijllarakiwa,...</td>\n",
       "    </tr>\n",
       "    <tr>\n",
       "      <th>6529</th>\n",
       "      <td>Hasta hace poco se centraban en el vasco.\\n</td>\n",
       "      <td>Jichhärunakakiw vasco arunx tantacht ’ asipxän...</td>\n",
       "    </tr>\n",
       "    <tr>\n",
       "      <th>6530</th>\n",
       "      <td>Pueden seguir el proyecto en Instagram y Twitt...</td>\n",
       "      <td>Instagra-mpin Twitter-ampinTwitter-ampin wakic...</td>\n",
       "    </tr>\n",
       "  </tbody>\n",
       "</table>\n",
       "<p>6531 rows × 2 columns</p>\n",
       "</div>"
      ],
      "text/plain": [
       "                                                     es  \\\n",
       "0     El 23 de abril es el Día Internacional del Lib...   \n",
       "1     Es más, porque creemos que leer literatura es ...   \n",
       "2     El Desafío del Libro de Global Voices es como ...   \n",
       "3     1) Lee un libro durante el próximo mes de un p...   \n",
       "4     2) Escribe un post en tu blog acerca de él dur...   \n",
       "...                                                 ...   \n",
       "6526  Aquí hay una sección para políglotas, personas...   \n",
       "6527  Sin embargo, el equipo de Wikitongues es cauto...   \n",
       "6528  Wikitongues también elige un \"Idioma de la sem...   \n",
       "6529        Hasta hace poco se centraban en el vasco.\\n   \n",
       "6530  Pueden seguir el proyecto en Instagram y Twitt...   \n",
       "\n",
       "                                                    aym  \n",
       "0     Qasaw phaxsin 23 ur saraqatan Jour mondial du ...  \n",
       "1     May sipanxa, taqinis yattan kunati yaqha jakaw...  \n",
       "2     Global Voices jach 'a pankan phaxsipax akkiriw...  \n",
       "3     1) Jichha jutkan uka phaxsix mä anqa markan pa...  \n",
       "4     2) Qasaw 23 ur saraqatarxar pasir simanat pank...  \n",
       "...                                                 ...  \n",
       "6526  Akanx ma qutucht ’ at yanapt ’ irinakaw walja ...  \n",
       "6527  Ukjamipansti, qutucht ’ ata Wikitongues ukax j...  \n",
       "6528  Wikitongues ukax mä arw simanan chijllarakiwa,...  \n",
       "6529  Jichhärunakakiw vasco arunx tantacht ’ asipxän...  \n",
       "6530  Instagra-mpin Twitter-ampinTwitter-ampin wakic...  \n",
       "\n",
       "[6531 rows x 2 columns]"
      ]
     },
     "execution_count": 14,
     "metadata": {},
     "output_type": "execute_result"
    }
   ],
   "source": [
    "df = pd.DataFrame({\"es\": es_list, \"aym\": aym_list})\n",
    "df"
   ]
  },
  {
   "cell_type": "code",
   "execution_count": null,
   "metadata": {},
   "outputs": [],
   "source": [
    "# buscar diccionario y complementarlo\n",
    "# tokenizar por palabra\n",
    "# implementar algoritmo de busqueda\n",
    "# armar grafo base"
   ]
  },
  {
   "cell_type": "code",
   "execution_count": 15,
   "metadata": {},
   "outputs": [],
   "source": [
    "import sacrebleu\n",
    "def calculate_score_report(sys, ref, score_only):\n",
    "\n",
    "    chrf = sacrebleu.corpus_chrf(sys, ref, word_order=2)\n",
    "    bleu = sacrebleu.corpus_bleu(sys, ref)\n",
    "\n",
    "    prefix = \"BLEU = \" if score_only else \"\"\n",
    "\n",
    "    print(\"#### Score Report ####\")\n",
    "    print(chrf)\n",
    "    print(\"{}{}\".format(prefix, bleu.format(score_only=score_only)))\n",
    "    return bleu.score, chrf.score"
   ]
  },
  {
   "cell_type": "code",
   "execution_count": 17,
   "metadata": {},
   "outputs": [
    {
     "name": "stdout",
     "output_type": "stream",
     "text": [
      "#### Score Report ####\n",
      "chrF2++ = 96.23\n",
      "BLEU = 0.00 96.2/0.0/0.0/0.0 (BP = 1.000 ratio = 1.000 hyp_len = 53 ref_len = 53)\n"
     ]
    },
    {
     "data": {
      "text/plain": [
       "(0.0, 96.22641509433963)"
      ]
     },
     "execution_count": 17,
     "metadata": {},
     "output_type": "execute_result"
    }
   ],
   "source": [
    "calculate_score_report(\"Hola, ¿como estas? Yo estoy bien muchas gracias por tu atencion\", [\"Hola, ¿cómo estás? Yo estoy bien muchas gracias por tu atencion\"], score_only=False)"
   ]
  },
  {
   "cell_type": "code",
   "execution_count": null,
   "metadata": {},
   "outputs": [],
   "source": []
  }
 ],
 "metadata": {
  "kernelspec": {
   "display_name": "agents",
   "language": "python",
   "name": "python3"
  },
  "language_info": {
   "codemirror_mode": {
    "name": "ipython",
    "version": 3
   },
   "file_extension": ".py",
   "mimetype": "text/x-python",
   "name": "python",
   "nbconvert_exporter": "python",
   "pygments_lexer": "ipython3",
   "version": "3.12.8"
  },
  "orig_nbformat": 4
 },
 "nbformat": 4,
 "nbformat_minor": 2
}
